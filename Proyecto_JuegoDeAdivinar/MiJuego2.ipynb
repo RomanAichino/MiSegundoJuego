{
 "cells": [
  {
   "attachments": {},
   "cell_type": "markdown",
   "metadata": {},
   "source": [
    "Buenass, este es mi segundo juego, y trata sobre asivinar un número al azar del 1(uno) al 100(cien), contando con 6 intentos.\n",
    "¡¡¡Mucha suerte!!!"
   ]
  },
  {
   "cell_type": "code",
   "execution_count": null,
   "metadata": {},
   "outputs": [],
   "source": [
    "import random\n",
    "\n",
    "def Juego ():\n",
    "    lista= [i for i in range (100)]\n",
    "    num_aleatorio = random.choice(lista)\n",
    "    num_elegido = contador_intentos = 0\n",
    "    \n",
    "    while (num_elegido != num_aleatorio and contador_intentos <= 5):\n",
    "        num_elegido = input('Elija un número: ')\n",
    "        num_elegido = int(num_elegido)\n",
    "        print(num_elegido)\n",
    "        if num_elegido == num_aleatorio:\n",
    "            print ('Felicidades!! ha ganado, el número era: ',num_aleatorio)\n",
    "            return 0\n",
    "        elif num_elegido < num_aleatorio:\n",
    "            print('Lo siento, el número que has elegido es menor, intentalo otra vez.')\n",
    "            contador_intentos += 1\n",
    "        else:\n",
    "            print('Lo siento, el número que has elegido es mayor, intentalo otra vez.')\n",
    "            contador_intentos += 1\n",
    "    \n",
    "    if (contador_intentos <= 5):\n",
    "        print('¡¡¡Felicidades, has ganado el juego!!! has acertado el número')\n",
    "    else:\n",
    "        print('HAS PERDIDO, EL NÚMERO ERA ', num_aleatorio)\n",
    "        print('Vuelve a jugar cuando quieras!!! <3')\n",
    "\n",
    "Jugar = Juego()\n"
   ]
  }
 ],
 "metadata": {
  "kernelspec": {
   "display_name": "Python 3",
   "language": "python",
   "name": "python3"
  },
  "language_info": {
   "codemirror_mode": {
    "name": "ipython",
    "version": 3
   },
   "file_extension": ".py",
   "mimetype": "text/x-python",
   "name": "python",
   "nbconvert_exporter": "python",
   "pygments_lexer": "ipython3",
   "version": "3.10.4"
  },
  "orig_nbformat": 4,
  "vscode": {
   "interpreter": {
    "hash": "d7546de2d5b66e6bb4051f93f462cf1f21acc5c70ac66712f7c9fa60f386dd80"
   }
  }
 },
 "nbformat": 4,
 "nbformat_minor": 2
}
